{
 "cells": [
  {
   "cell_type": "markdown",
   "id": "86ce20fe",
   "metadata": {},
   "source": [
    "### Importing Libraries"
   ]
  },
  {
   "cell_type": "code",
   "execution_count": 1,
   "id": "f3c41612",
   "metadata": {},
   "outputs": [],
   "source": [
    "import numpy as np      #To perform operations on array\n",
    "import cv2\n",
    "import math\n",
    "from PIL import Image"
   ]
  },
  {
   "cell_type": "markdown",
   "id": "540b03b4",
   "metadata": {},
   "source": [
    "### Mean Calculation"
   ]
  },
  {
   "cell_type": "code",
   "execution_count": 2,
   "id": "3816ed73",
   "metadata": {},
   "outputs": [],
   "source": [
    "# Calculates mean column-wise\n",
    "# input -> mxn matrix\n",
    "# output -> 1xn matrix\n",
    "def mean_0(X):\n",
    "    # Calculates mean of each column\n",
    "    m,n = X.shape\n",
    "    sums = np.full([1,n],0)\n",
    "    for row in X:\n",
    "        sums += row\n",
    "    return sums/m"
   ]
  },
  {
   "cell_type": "markdown",
   "id": "28b6e077",
   "metadata": {},
   "source": [
    "### Covariance Calculation"
   ]
  },
  {
   "cell_type": "code",
   "execution_count": 3,
   "id": "024fdfe9",
   "metadata": {},
   "outputs": [],
   "source": [
    "# Calculates the covariance \n",
    "# input -> a matrix mxn\n",
    "# output -> covariance matrix nxn\n",
    "def calcCov(x, y):\n",
    "    mean_x, mean_y = x.mean(), y.mean()\n",
    "    n = len(x)\n",
    "    return sum((x - mean_x) * (y - mean_y)) / n\n",
    "def cov(data):\n",
    "    rows, cols = data.shape\n",
    "    cov_mat = np.zeros((cols, cols))\n",
    "    for i in range(cols):\n",
    "        for j in range(cols):\n",
    "            cov_mat[i][j] = calcCov(data[:, i], data[:, j])\n",
    "    return cov_mat"
   ]
  },
  {
   "cell_type": "markdown",
   "id": "3690553c",
   "metadata": {},
   "source": [
    "### Mahalanobis Distance"
   ]
  },
  {
   "cell_type": "code",
   "execution_count": 4,
   "id": "5f239e1e",
   "metadata": {},
   "outputs": [],
   "source": [
    "# Calculates Mahalanobis distance between 2 points\n",
    "# inputs -> 2 points p1, p2; inverse matrix X\n",
    "# output -> scalar distance\n",
    "def mahalanobis_distance(p1,p2,X): #p1 is model, p2 is the test point\n",
    "    # X is inverse cov matrix\n",
    "    distance = np.dot(np.dot(np.subtract(p2,p1),np.array(X)),np.subtract(p2,p1).T)\n",
    "    return distance"
   ]
  },
  {
   "cell_type": "markdown",
   "id": "31d86d73",
   "metadata": {},
   "source": [
    "### Loading Images"
   ]
  },
  {
   "cell_type": "code",
   "execution_count": 5,
   "id": "c5ac601f",
   "metadata": {},
   "outputs": [],
   "source": [
    "# Load 4 band images of 512x512 \n",
    "imglist = 'band1.jpg', 'band2.jpg', 'band3.jpg','band4.jpg'\n",
    "band_img = []\n",
    "# Load in the images\n",
    "for img in imglist:\n",
    "    band_img.append(cv2.imread(img,0))"
   ]
  },
  {
   "cell_type": "code",
   "execution_count": 6,
   "id": "9ca31a6c",
   "metadata": {},
   "outputs": [
    {
     "data": {
      "text/plain": [
       "(4, 512, 512)"
      ]
     },
     "execution_count": 6,
     "metadata": {},
     "output_type": "execute_result"
    }
   ],
   "source": [
    "np.array(band_img).shape"
   ]
  },
  {
   "cell_type": "markdown",
   "id": "cd26facb",
   "metadata": {},
   "source": [
    "### Training Coordinates"
   ]
  },
  {
   "cell_type": "code",
   "execution_count": 7,
   "id": "cc65d5f6",
   "metadata": {},
   "outputs": [],
   "source": [
    "# Loads train 50 coordinates of River Class\n",
    "df1 = np.genfromtxt('River', delimiter=',',dtype=int)\n",
    "# Loads train 100 coordinates of Non-River Class\n",
    "df2 = np.genfromtxt('NonRiver',  delimiter=',',dtype=int)"
   ]
  },
  {
   "cell_type": "markdown",
   "id": "94a31d81",
   "metadata": {},
   "source": [
    "### Training Data"
   ]
  },
  {
   "cell_type": "code",
   "execution_count": 8,
   "id": "9a0efd86",
   "metadata": {},
   "outputs": [],
   "source": [
    "# Gets the coordinates and return the pixel value\n",
    "# Inputs -> image(512x512x4); XY containing n coordinates\n",
    "# Output -> np.array X_train nx4\n",
    "def get_dataset(img,XY):\n",
    "    X_train = []\n",
    "    for band in img:\n",
    "        ls=[band[x[1]][x[0]] for x in XY]\n",
    "        X_train.append(ls)\n",
    "    return np.array(X_train).T"
   ]
  },
  {
   "cell_type": "markdown",
   "id": "335405ec",
   "metadata": {},
   "source": [
    "#### River Dataset"
   ]
  },
  {
   "cell_type": "code",
   "execution_count": 9,
   "id": "fa69f581",
   "metadata": {},
   "outputs": [
    {
     "data": {
      "text/plain": [
       "(50, 4)"
      ]
     },
     "execution_count": 9,
     "metadata": {},
     "output_type": "execute_result"
    }
   ],
   "source": [
    "# Get the 50 pixel values of river class for training\n",
    "river_train = get_dataset(band_img,df1)\n",
    "river_train.shape"
   ]
  },
  {
   "cell_type": "markdown",
   "id": "85d740e8",
   "metadata": {},
   "source": [
    "#### Non-River Dataset"
   ]
  },
  {
   "cell_type": "code",
   "execution_count": 10,
   "id": "eafb1b1d",
   "metadata": {},
   "outputs": [
    {
     "data": {
      "text/plain": [
       "(100, 4)"
      ]
     },
     "execution_count": 10,
     "metadata": {},
     "output_type": "execute_result"
    }
   ],
   "source": [
    "# Get the 100 pixel values of non-river class for training\n",
    "nonriver_train = get_dataset(band_img,df2)\n",
    "nonriver_train.shape"
   ]
  },
  {
   "cell_type": "markdown",
   "id": "63a039d4",
   "metadata": {},
   "source": [
    "### Mean"
   ]
  },
  {
   "cell_type": "code",
   "execution_count": 11,
   "id": "6248ace7",
   "metadata": {},
   "outputs": [],
   "source": [
    "# Mean of River Class\n",
    "river_mean = mean_0(river_train)\n",
    "# Mean of Non-River Class\n",
    "nonriver_mean = mean_0(nonriver_train)"
   ]
  },
  {
   "cell_type": "code",
   "execution_count": 12,
   "id": "bdace7de",
   "metadata": {},
   "outputs": [
    {
     "data": {
      "text/plain": [
       "(1, 4)"
      ]
     },
     "execution_count": 12,
     "metadata": {},
     "output_type": "execute_result"
    }
   ],
   "source": [
    "river_mean.shape"
   ]
  },
  {
   "cell_type": "markdown",
   "id": "c6c631ca",
   "metadata": {},
   "source": [
    "### Covariance Matrix"
   ]
  },
  {
   "cell_type": "code",
   "execution_count": 13,
   "id": "8601d3bc",
   "metadata": {},
   "outputs": [
    {
     "data": {
      "text/plain": [
       "array([[ 0.5876,  0.1836,  0.0904, -0.1764],\n",
       "       [ 0.1836,  0.4196,  0.1344, -0.1604],\n",
       "       [ 0.0904,  0.1344,  0.3616,  0.0144],\n",
       "       [-0.1764, -0.1604,  0.0144,  0.4196]])"
      ]
     },
     "execution_count": 13,
     "metadata": {},
     "output_type": "execute_result"
    }
   ],
   "source": [
    "#Covariance Matrix of River Class\n",
    "river_cov = cov(river_train)\n",
    "river_cov"
   ]
  },
  {
   "cell_type": "code",
   "execution_count": 14,
   "id": "091286dd",
   "metadata": {},
   "outputs": [
    {
     "data": {
      "text/plain": [
       "array([[ 7.2419,  5.8881,  8.6775,  1.8792],\n",
       "       [ 5.8881,  6.2819,  8.9125,  4.4308],\n",
       "       [ 8.6775,  8.9125, 17.0475,  4.57  ],\n",
       "       [ 1.8792,  4.4308,  4.57  , 34.3056]])"
      ]
     },
     "execution_count": 14,
     "metadata": {},
     "output_type": "execute_result"
    }
   ],
   "source": [
    "#Covariance Matrix of Non-River Class\n",
    "nonriver_cov = cov(nonriver_train)\n",
    "nonriver_cov"
   ]
  },
  {
   "cell_type": "code",
   "execution_count": 15,
   "id": "3db19208",
   "metadata": {},
   "outputs": [
    {
     "data": {
      "text/plain": [
       "(512, 512, 4)"
      ]
     },
     "execution_count": 15,
     "metadata": {},
     "output_type": "execute_result"
    }
   ],
   "source": [
    "# test_data is the 4 band images of 512x512\n",
    "# Transposing the test_data so as to make it 512x512x4 (for ease of processing)\n",
    "test_data = np.array(band_img).T\n",
    "test_data.shape"
   ]
  },
  {
   "cell_type": "markdown",
   "id": "fe2c909f",
   "metadata": {},
   "source": [
    "### Bayes Classifier"
   ]
  },
  {
   "cell_type": "markdown",
   "id": "266a3dec",
   "metadata": {},
   "source": [
    "#### Density function Class C\n",
    ">$ \\large P(x_i|y)=\\frac{1}{\\sqrt{|Cov_C|}} exp({-0.5*C}) $"
   ]
  },
  {
   "cell_type": "markdown",
   "id": "7cc0cf6a",
   "metadata": {},
   "source": [
    "#### Baye’s rule\n",
    "$Class_1\\hspace{2mm}  if \\hspace{2mm} (P1 * p1) >= (P2 * p2)\\\\\n",
    "else\\hspace{2mm} Class_2$"
   ]
  },
  {
   "cell_type": "code",
   "execution_count": 16,
   "id": "64681124",
   "metadata": {},
   "outputs": [],
   "source": [
    "# Calculates the output image pixel values for the given Prior prob\n",
    "# Inputs -> Prior prob P1,P2; Mean of both classes mean_river, mean_nonriver; \n",
    "#           Covariance matrices of both classes river_cov, nonriver_cov; test_data 512x512x4\n",
    "# Output -> Output image pixel value matrix 512x512\n",
    "def bayes(P1, P2, mean_river, mean_nonriver, river_cov, nonriver_cov, test_data):\n",
    "    X = np.linalg.inv(river_cov)\n",
    "    Y = np.linalg.inv(nonriver_cov)\n",
    "    m,n,p = test_data.shape\n",
    "    Out_image = np.zeros((m,n))\n",
    "    for i in range(m):\n",
    "        for j in range(n):\n",
    "            river_class =  mahalanobis_distance(mean_river,test_data[i][j],X)\n",
    "            nonriver_class =  mahalanobis_distance(mean_nonriver,test_data[i][j],Y)\n",
    "            p1 = (1/(np.linalg.det(river_cov)**0.5))*math.exp(-0.5*river_class)\n",
    "            p2 = (1/(np.linalg.det(nonriver_cov)**0.5))*math.exp(-0.5*nonriver_class)\n",
    "            \n",
    "            if(P1*p1 >= P2*p2):\n",
    "                Out_image[i][j] = 255\n",
    "            else:\n",
    "                Out_image[i][j] = 0\n",
    "    return Out_image.T    "
   ]
  },
  {
   "cell_type": "markdown",
   "id": "e3d32ad2",
   "metadata": {},
   "source": [
    "### Case 1 : River class (Prior Prob: ) = 0.3 , Nonriver class(Prior Prob) = 0.7"
   ]
  },
  {
   "cell_type": "code",
   "execution_count": 17,
   "id": "7c34eb86",
   "metadata": {},
   "outputs": [],
   "source": [
    "P1 = 0.3\n",
    "P2 = 0.7\n",
    "Out_image = bayes(P1,P2, river_mean, nonriver_mean, river_cov, nonriver_cov, test_data)\n",
    "# Using Image from PIL, convert the Out_Image to image\n",
    "# Image.fromarray -> Creates an image memory from an object exporting the array interface (using the buffer protocol)\n",
    "im1 = Image.fromarray(np.uint8(Out_image))\n",
    "im1.save(\"Output_Images/river03non07.jpeg\")"
   ]
  },
  {
   "cell_type": "code",
   "execution_count": 18,
   "id": "d2b73e44",
   "metadata": {},
   "outputs": [
    {
     "data": {
      "image/png": "[encoded data removed]",
      "text/plain": [
       "<PIL.Image.Image image mode=L size=512x512 at 0x26ECAB8C6D0>"
      ]
     },
     "metadata": {},
     "output_type": "display_data"
    }
   ],
   "source": [
    "display(im1)"
   ]
  },
  {
   "cell_type": "markdown",
   "id": "483ed14d",
   "metadata": {},
   "source": [
    "### Case 2 : River class (Prior Prob: ) = 0.7 , Nonriver class(Prior Prob) = 0.3"
   ]
  },
  {
   "cell_type": "code",
   "execution_count": 19,
   "id": "7b9eef4d",
   "metadata": {},
   "outputs": [],
   "source": [
    "P1 = 0.7\n",
    "P2 = 0.3\n",
    "Out_image = bayes(P1,P2, river_mean, nonriver_mean, river_cov, nonriver_cov, test_data)\n",
    "im2 = Image.fromarray(np.uint8(Out_image))"
   ]
  },
  {
   "cell_type": "code",
   "execution_count": 20,
   "id": "609dbfc6",
   "metadata": {},
   "outputs": [
    {
     "data": {
      "image/png": "[encoded data removed]",
      "text/plain": [
       "<PIL.Image.Image image mode=L size=512x512 at 0x26ED5EF5DC0>"
      ]
     },
     "metadata": {},
     "output_type": "display_data"
    }
   ],
   "source": [
    "im2.save(\"Output_Images/river07non03.jpeg\")\n",
    "display(im2)"
   ]
  },
  {
   "cell_type": "markdown",
   "id": "642d64f2",
   "metadata": {},
   "source": [
    "### Case 3 : River class (Prior Prob: ) = 0.5 , Nonriver class(Prior Prob) = 0.5"
   ]
  },
  {
   "cell_type": "code",
   "execution_count": 21,
   "id": "1d1207bb",
   "metadata": {},
   "outputs": [],
   "source": [
    "P1 = 0.5\n",
    "P2 = 0.5\n",
    "Out_image = bayes(P1,P2, river_mean, nonriver_mean, river_cov, nonriver_cov, test_data)\n",
    "im3 = Image.fromarray(np.uint8(Out_image))\n",
    "im3.save(\"Output_Images/river05non05.jpeg\")"
   ]
  },
  {
   "cell_type": "code",
   "execution_count": 22,
   "id": "ff6ed0e7",
   "metadata": {},
   "outputs": [
    {
     "data": {
      "image/png": "[encoded data removed]",
      "text/plain": [
       "<PIL.Image.Image image mode=L size=512x512 at 0x26ECAB8C370>"
      ]
     },
     "metadata": {},
     "output_type": "display_data"
    }
   ],
   "source": [
    "display(im3)"
   ]
  }
 ],
 "metadata": {
  "kernelspec": {
   "display_name": "Python 3 (ipykernel)",
   "language": "python",
   "name": "python3"
  },
  "language_info": {
   "codemirror_mode": {
    "name": "ipython",
    "version": 3
   },
   "file_extension": ".py",
   "mimetype": "text/x-python",
   "name": "python",
   "nbconvert_exporter": "python",
   "pygments_lexer": "ipython3",
   "version": "3.8.2"
  }
 },
 "nbformat": 4,
 "nbformat_minor": 5
}
